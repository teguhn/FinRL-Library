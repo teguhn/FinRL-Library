{
 "cells": [
  {
   "cell_type": "code",
   "execution_count": 4,
   "metadata": {
    "collapsed": true,
    "jupyter": {
     "outputs_hidden": true
    },
    "tags": []
   },
   "outputs": [
    {
     "name": "stdout",
     "output_type": "stream",
     "text": [
      "Collecting git+https://github.com/AI4Finance-LLC/FinRL-Library.git\n",
      "  Cloning https://github.com/AI4Finance-LLC/FinRL-Library.git to c:\\users\\user\\appdata\\local\\temp\\pip-req-build-eljb4yz0\n",
      "Collecting pyfolio@ git+https://github.com/quantopian/pyfolio.git#egg=pyfolio-0.9.2\n",
      "  Cloning https://github.com/quantopian/pyfolio.git to c:\\users\\user\\appdata\\local\\temp\\pip-install-fxee6hdm\\pyfolio_41b3a03783c24732aa16556b32d3fcda\n",
      "Requirement already satisfied: numpy in c:\\users\\user\\miniconda3\\envs\\finrl\\lib\\site-packages (from finrl==0.3.0) (1.20.2)\n",
      "Requirement already satisfied: pandas>=1.1.5 in c:\\users\\user\\miniconda3\\envs\\finrl\\lib\\site-packages (from finrl==0.3.0) (1.2.4)\n",
      "Requirement already satisfied: stockstats in c:\\users\\user\\miniconda3\\envs\\finrl\\lib\\site-packages (from finrl==0.3.0) (0.3.2)\n",
      "Requirement already satisfied: yfinance in c:\\users\\user\\miniconda3\\envs\\finrl\\lib\\site-packages (from finrl==0.3.0) (0.1.59)\n",
      "Requirement already satisfied: matplotlib in c:\\users\\user\\miniconda3\\envs\\finrl\\lib\\site-packages (from finrl==0.3.0) (3.4.2)\n",
      "Requirement already satisfied: scikit-learn>=0.21.0 in c:\\users\\user\\miniconda3\\envs\\finrl\\lib\\site-packages (from finrl==0.3.0) (0.24.2)\n",
      "Requirement already satisfied: gym>=0.17 in c:\\users\\user\\miniconda3\\envs\\finrl\\lib\\site-packages (from finrl==0.3.0) (0.18.0)\n",
      "Requirement already satisfied: stable-baselines3[extra] in c:\\users\\user\\miniconda3\\envs\\finrl\\lib\\site-packages (from finrl==0.3.0) (1.0)\n",
      "Requirement already satisfied: pytest in c:\\users\\user\\miniconda3\\envs\\finrl\\lib\\site-packages (from finrl==0.3.0) (6.2.4)\n",
      "Requirement already satisfied: setuptools>=41.4.0 in c:\\users\\user\\miniconda3\\envs\\finrl\\lib\\site-packages (from finrl==0.3.0) (52.0.0.post20210125)\n",
      "Requirement already satisfied: wheel>=0.33.6 in c:\\users\\user\\miniconda3\\envs\\finrl\\lib\\site-packages (from finrl==0.3.0) (0.36.2)\n",
      "Requirement already satisfied: ipython>=3.2.3 in c:\\users\\user\\appdata\\roaming\\python\\python38\\site-packages (from pyfolio@ git+https://github.com/quantopian/pyfolio.git#egg=pyfolio-0.9.2->finrl==0.3.0) (7.21.0)\n",
      "Requirement already satisfied: pytz>=2014.10 in c:\\users\\user\\miniconda3\\envs\\finrl\\lib\\site-packages (from pyfolio@ git+https://github.com/quantopian/pyfolio.git#egg=pyfolio-0.9.2->finrl==0.3.0) (2021.1)\n",
      "Requirement already satisfied: scipy>=0.14.0 in c:\\users\\user\\miniconda3\\envs\\finrl\\lib\\site-packages (from pyfolio@ git+https://github.com/quantopian/pyfolio.git#egg=pyfolio-0.9.2->finrl==0.3.0) (1.6.3)\n",
      "Requirement already satisfied: seaborn>=0.7.1 in c:\\users\\user\\miniconda3\\envs\\finrl\\lib\\site-packages (from pyfolio@ git+https://github.com/quantopian/pyfolio.git#egg=pyfolio-0.9.2->finrl==0.3.0) (0.11.1)\n",
      "Requirement already satisfied: empyrical>=0.5.0 in c:\\users\\user\\miniconda3\\envs\\finrl\\lib\\site-packages (from pyfolio@ git+https://github.com/quantopian/pyfolio.git#egg=pyfolio-0.9.2->finrl==0.3.0) (0.5.5)\n",
      "Requirement already satisfied: pandas-datareader>=0.2 in c:\\users\\user\\miniconda3\\envs\\finrl\\lib\\site-packages (from empyrical>=0.5.0->pyfolio@ git+https://github.com/quantopian/pyfolio.git#egg=pyfolio-0.9.2->finrl==0.3.0) (0.9.0)\n",
      "Requirement already satisfied: Pillow<=7.2.0 in c:\\users\\user\\miniconda3\\envs\\finrl\\lib\\site-packages (from gym>=0.17->finrl==0.3.0) (7.2.0)\n",
      "Requirement already satisfied: cloudpickle<1.7.0,>=1.2.0 in c:\\users\\user\\miniconda3\\envs\\finrl\\lib\\site-packages (from gym>=0.17->finrl==0.3.0) (1.6.0)\n",
      "Requirement already satisfied: pyglet<=1.5.0,>=1.4.0 in c:\\users\\user\\miniconda3\\envs\\finrl\\lib\\site-packages (from gym>=0.17->finrl==0.3.0) (1.5.0)\n",
      "Requirement already satisfied: pickleshare in c:\\users\\user\\appdata\\roaming\\python\\python38\\site-packages (from ipython>=3.2.3->pyfolio@ git+https://github.com/quantopian/pyfolio.git#egg=pyfolio-0.9.2->finrl==0.3.0) (0.7.5)\n",
      "Requirement already satisfied: colorama in c:\\users\\user\\miniconda3\\envs\\finrl\\lib\\site-packages (from ipython>=3.2.3->pyfolio@ git+https://github.com/quantopian/pyfolio.git#egg=pyfolio-0.9.2->finrl==0.3.0) (0.4.4)\n",
      "Requirement already satisfied: pygments in c:\\users\\user\\appdata\\roaming\\python\\python38\\site-packages (from ipython>=3.2.3->pyfolio@ git+https://github.com/quantopian/pyfolio.git#egg=pyfolio-0.9.2->finrl==0.3.0) (2.8.1)\n",
      "Requirement already satisfied: jedi>=0.16 in c:\\users\\user\\appdata\\roaming\\python\\python38\\site-packages (from ipython>=3.2.3->pyfolio@ git+https://github.com/quantopian/pyfolio.git#egg=pyfolio-0.9.2->finrl==0.3.0) (0.18.0)\n",
      "Requirement already satisfied: prompt-toolkit!=3.0.0,!=3.0.1,<3.1.0,>=2.0.0 in c:\\users\\user\\appdata\\roaming\\python\\python38\\site-packages (from ipython>=3.2.3->pyfolio@ git+https://github.com/quantopian/pyfolio.git#egg=pyfolio-0.9.2->finrl==0.3.0) (3.0.16)\n",
      "Requirement already satisfied: backcall in c:\\users\\user\\appdata\\roaming\\python\\python38\\site-packages (from ipython>=3.2.3->pyfolio@ git+https://github.com/quantopian/pyfolio.git#egg=pyfolio-0.9.2->finrl==0.3.0) (0.2.0)\n",
      "Requirement already satisfied: traitlets>=4.2 in c:\\users\\user\\appdata\\roaming\\python\\python38\\site-packages (from ipython>=3.2.3->pyfolio@ git+https://github.com/quantopian/pyfolio.git#egg=pyfolio-0.9.2->finrl==0.3.0) (5.0.5)\n",
      "Requirement already satisfied: decorator in c:\\users\\user\\miniconda3\\envs\\finrl\\lib\\site-packages (from ipython>=3.2.3->pyfolio@ git+https://github.com/quantopian/pyfolio.git#egg=pyfolio-0.9.2->finrl==0.3.0) (5.0.7)\n",
      "Requirement already satisfied: parso<0.9.0,>=0.8.0 in c:\\users\\user\\appdata\\roaming\\python\\python38\\site-packages (from jedi>=0.16->ipython>=3.2.3->pyfolio@ git+https://github.com/quantopian/pyfolio.git#egg=pyfolio-0.9.2->finrl==0.3.0) (0.8.1)\n",
      "Requirement already satisfied: cycler>=0.10 in c:\\users\\user\\miniconda3\\envs\\finrl\\lib\\site-packages (from matplotlib->finrl==0.3.0) (0.10.0)\n",
      "Requirement already satisfied: pyparsing>=2.2.1 in c:\\users\\user\\miniconda3\\envs\\finrl\\lib\\site-packages (from matplotlib->finrl==0.3.0) (2.4.7)\n",
      "Requirement already satisfied: python-dateutil>=2.7 in c:\\users\\user\\miniconda3\\envs\\finrl\\lib\\site-packages (from matplotlib->finrl==0.3.0) (2.8.1)\n",
      "Requirement already satisfied: kiwisolver>=1.0.1 in c:\\users\\user\\miniconda3\\envs\\finrl\\lib\\site-packages (from matplotlib->finrl==0.3.0) (1.3.1)\n",
      "Requirement already satisfied: six in c:\\users\\user\\miniconda3\\envs\\finrl\\lib\\site-packages (from cycler>=0.10->matplotlib->finrl==0.3.0) (1.16.0)\n",
      "Requirement already satisfied: requests>=2.19.0 in c:\\users\\user\\miniconda3\\envs\\finrl\\lib\\site-packages (from pandas-datareader>=0.2->empyrical>=0.5.0->pyfolio@ git+https://github.com/quantopian/pyfolio.git#egg=pyfolio-0.9.2->finrl==0.3.0) (2.25.1)\n",
      "Requirement already satisfied: lxml in c:\\users\\user\\miniconda3\\envs\\finrl\\lib\\site-packages (from pandas-datareader>=0.2->empyrical>=0.5.0->pyfolio@ git+https://github.com/quantopian/pyfolio.git#egg=pyfolio-0.9.2->finrl==0.3.0) (4.6.3)\n",
      "Requirement already satisfied: wcwidth in c:\\users\\user\\appdata\\roaming\\python\\python38\\site-packages (from prompt-toolkit!=3.0.0,!=3.0.1,<3.1.0,>=2.0.0->ipython>=3.2.3->pyfolio@ git+https://github.com/quantopian/pyfolio.git#egg=pyfolio-0.9.2->finrl==0.3.0) (0.2.5)\n",
      "Requirement already satisfied: future in c:\\users\\user\\miniconda3\\envs\\finrl\\lib\\site-packages (from pyglet<=1.5.0,>=1.4.0->gym>=0.17->finrl==0.3.0) (0.18.2)\n",
      "Requirement already satisfied: chardet<5,>=3.0.2 in c:\\users\\user\\miniconda3\\envs\\finrl\\lib\\site-packages (from requests>=2.19.0->pandas-datareader>=0.2->empyrical>=0.5.0->pyfolio@ git+https://github.com/quantopian/pyfolio.git#egg=pyfolio-0.9.2->finrl==0.3.0) (4.0.0)\n",
      "Requirement already satisfied: urllib3<1.27,>=1.21.1 in c:\\users\\user\\miniconda3\\envs\\finrl\\lib\\site-packages (from requests>=2.19.0->pandas-datareader>=0.2->empyrical>=0.5.0->pyfolio@ git+https://github.com/quantopian/pyfolio.git#egg=pyfolio-0.9.2->finrl==0.3.0) (1.26.4)\n",
      "Requirement already satisfied: idna<3,>=2.5 in c:\\users\\user\\miniconda3\\envs\\finrl\\lib\\site-packages (from requests>=2.19.0->pandas-datareader>=0.2->empyrical>=0.5.0->pyfolio@ git+https://github.com/quantopian/pyfolio.git#egg=pyfolio-0.9.2->finrl==0.3.0) (2.10)\n",
      "Requirement already satisfied: certifi>=2017.4.17 in c:\\users\\user\\miniconda3\\envs\\finrl\\lib\\site-packages (from requests>=2.19.0->pandas-datareader>=0.2->empyrical>=0.5.0->pyfolio@ git+https://github.com/quantopian/pyfolio.git#egg=pyfolio-0.9.2->finrl==0.3.0) (2020.12.5)\n",
      "Requirement already satisfied: threadpoolctl>=2.0.0 in c:\\users\\user\\miniconda3\\envs\\finrl\\lib\\site-packages (from scikit-learn>=0.21.0->finrl==0.3.0) (2.1.0)\n",
      "Requirement already satisfied: joblib>=0.11 in c:\\users\\user\\miniconda3\\envs\\finrl\\lib\\site-packages (from scikit-learn>=0.21.0->finrl==0.3.0) (1.0.1)\n",
      "Requirement already satisfied: ipython-genutils in c:\\users\\user\\appdata\\roaming\\python\\python38\\site-packages (from traitlets>=4.2->ipython>=3.2.3->pyfolio@ git+https://github.com/quantopian/pyfolio.git#egg=pyfolio-0.9.2->finrl==0.3.0) (0.2.0)\n",
      "Requirement already satisfied: toml in c:\\users\\user\\miniconda3\\envs\\finrl\\lib\\site-packages (from pytest->finrl==0.3.0) (0.10.2)\n",
      "Requirement already satisfied: pluggy<1.0.0a1,>=0.12 in c:\\users\\user\\miniconda3\\envs\\finrl\\lib\\site-packages (from pytest->finrl==0.3.0) (0.13.1)\n",
      "Requirement already satisfied: attrs>=19.2.0 in c:\\users\\user\\miniconda3\\envs\\finrl\\lib\\site-packages (from pytest->finrl==0.3.0) (21.2.0)\n",
      "Requirement already satisfied: atomicwrites>=1.0 in c:\\users\\user\\miniconda3\\envs\\finrl\\lib\\site-packages (from pytest->finrl==0.3.0) (1.4.0)\n",
      "Requirement already satisfied: py>=1.8.2 in c:\\users\\user\\miniconda3\\envs\\finrl\\lib\\site-packages (from pytest->finrl==0.3.0) (1.10.0)\n",
      "Requirement already satisfied: packaging in c:\\users\\user\\miniconda3\\envs\\finrl\\lib\\site-packages (from pytest->finrl==0.3.0) (20.9)\n",
      "Requirement already satisfied: iniconfig in c:\\users\\user\\miniconda3\\envs\\finrl\\lib\\site-packages (from pytest->finrl==0.3.0) (1.1.1)"
     ]
    },
    {
     "name": "stderr",
     "output_type": "stream",
     "text": [
      "  Running command git clone -q https://github.com/AI4Finance-LLC/FinRL-Library.git 'C:\\Users\\User\\AppData\\Local\\Temp\\pip-req-build-eljb4yz0'\n",
      "  Running command git clone -q https://github.com/quantopian/pyfolio.git 'C:\\Users\\User\\AppData\\Local\\Temp\\pip-install-fxee6hdm\\pyfolio_41b3a03783c24732aa16556b32d3fcda'\n"
     ]
    },
    {
     "name": "stdout",
     "output_type": "stream",
     "text": [
      "\n",
      "Requirement already satisfied: torch>=1.4.0 in c:\\users\\user\\miniconda3\\envs\\finrl\\lib\\site-packages (from stable-baselines3[extra]->finrl==0.3.0) (1.8.1)\n",
      "Requirement already satisfied: tensorboard>=2.2.0 in c:\\users\\user\\miniconda3\\envs\\finrl\\lib\\site-packages (from stable-baselines3[extra]->finrl==0.3.0) (2.5.0)\n",
      "Requirement already satisfied: psutil in c:\\users\\user\\miniconda3\\envs\\finrl\\lib\\site-packages (from stable-baselines3[extra]->finrl==0.3.0) (5.8.0)\n",
      "Requirement already satisfied: opencv-python in c:\\users\\user\\miniconda3\\envs\\finrl\\lib\\site-packages (from stable-baselines3[extra]->finrl==0.3.0) (4.5.2.52)\n",
      "Requirement already satisfied: atari-py~=0.2.0 in c:\\users\\user\\miniconda3\\envs\\finrl\\lib\\site-packages (from stable-baselines3[extra]->finrl==0.3.0) (0.2.6)\n",
      "Requirement already satisfied: werkzeug>=0.11.15 in c:\\users\\user\\miniconda3\\envs\\finrl\\lib\\site-packages (from tensorboard>=2.2.0->stable-baselines3[extra]->finrl==0.3.0) (1.0.1)\n",
      "Requirement already satisfied: google-auth<2,>=1.6.3 in c:\\users\\user\\miniconda3\\envs\\finrl\\lib\\site-packages (from tensorboard>=2.2.0->stable-baselines3[extra]->finrl==0.3.0) (1.30.0)\n",
      "Requirement already satisfied: google-auth-oauthlib<0.5,>=0.4.1 in c:\\users\\user\\miniconda3\\envs\\finrl\\lib\\site-packages (from tensorboard>=2.2.0->stable-baselines3[extra]->finrl==0.3.0) (0.4.4)\n",
      "Requirement already satisfied: tensorboard-data-server<0.7.0,>=0.6.0 in c:\\users\\user\\miniconda3\\envs\\finrl\\lib\\site-packages (from tensorboard>=2.2.0->stable-baselines3[extra]->finrl==0.3.0) (0.6.1)\n",
      "Requirement already satisfied: protobuf>=3.6.0 in c:\\users\\user\\miniconda3\\envs\\finrl\\lib\\site-packages (from tensorboard>=2.2.0->stable-baselines3[extra]->finrl==0.3.0) (3.16.0)\n",
      "Requirement already satisfied: absl-py>=0.4 in c:\\users\\user\\miniconda3\\envs\\finrl\\lib\\site-packages (from tensorboard>=2.2.0->stable-baselines3[extra]->finrl==0.3.0) (0.12.0)\n",
      "Requirement already satisfied: grpcio>=1.24.3 in c:\\users\\user\\miniconda3\\envs\\finrl\\lib\\site-packages (from tensorboard>=2.2.0->stable-baselines3[extra]->finrl==0.3.0) (1.37.1)\n",
      "Requirement already satisfied: tensorboard-plugin-wit>=1.6.0 in c:\\users\\user\\miniconda3\\envs\\finrl\\lib\\site-packages (from tensorboard>=2.2.0->stable-baselines3[extra]->finrl==0.3.0) (1.8.0)\n",
      "Requirement already satisfied: markdown>=2.6.8 in c:\\users\\user\\miniconda3\\envs\\finrl\\lib\\site-packages (from tensorboard>=2.2.0->stable-baselines3[extra]->finrl==0.3.0) (3.3.4)\n",
      "Requirement already satisfied: pyasn1-modules>=0.2.1 in c:\\users\\user\\miniconda3\\envs\\finrl\\lib\\site-packages (from google-auth<2,>=1.6.3->tensorboard>=2.2.0->stable-baselines3[extra]->finrl==0.3.0) (0.2.8)\n",
      "Requirement already satisfied: rsa<5,>=3.1.4 in c:\\users\\user\\miniconda3\\envs\\finrl\\lib\\site-packages (from google-auth<2,>=1.6.3->tensorboard>=2.2.0->stable-baselines3[extra]->finrl==0.3.0) (4.7.2)\n",
      "Requirement already satisfied: cachetools<5.0,>=2.0.0 in c:\\users\\user\\miniconda3\\envs\\finrl\\lib\\site-packages (from google-auth<2,>=1.6.3->tensorboard>=2.2.0->stable-baselines3[extra]->finrl==0.3.0) (4.2.2)\n",
      "Requirement already satisfied: requests-oauthlib>=0.7.0 in c:\\users\\user\\miniconda3\\envs\\finrl\\lib\\site-packages (from google-auth-oauthlib<0.5,>=0.4.1->tensorboard>=2.2.0->stable-baselines3[extra]->finrl==0.3.0) (1.3.0)\n",
      "Requirement already satisfied: pyasn1<0.5.0,>=0.4.6 in c:\\users\\user\\miniconda3\\envs\\finrl\\lib\\site-packages (from pyasn1-modules>=0.2.1->google-auth<2,>=1.6.3->tensorboard>=2.2.0->stable-baselines3[extra]->finrl==0.3.0) (0.4.8)\n",
      "Requirement already satisfied: oauthlib>=3.0.0 in c:\\users\\user\\miniconda3\\envs\\finrl\\lib\\site-packages (from requests-oauthlib>=0.7.0->google-auth-oauthlib<0.5,>=0.4.1->tensorboard>=2.2.0->stable-baselines3[extra]->finrl==0.3.0) (3.1.0)\n",
      "Requirement already satisfied: typing-extensions in c:\\users\\user\\miniconda3\\envs\\finrl\\lib\\site-packages (from torch>=1.4.0->stable-baselines3[extra]->finrl==0.3.0) (3.10.0.0)\n",
      "Requirement already satisfied: int-date>=0.1.7 in c:\\users\\user\\miniconda3\\envs\\finrl\\lib\\site-packages (from stockstats->finrl==0.3.0) (0.1.8)\n",
      "Requirement already satisfied: multitasking>=0.0.7 in c:\\users\\user\\miniconda3\\envs\\finrl\\lib\\site-packages (from yfinance->finrl==0.3.0) (0.0.9)\n",
      "Building wheels for collected packages: finrl, pyfolio\n",
      "  Building wheel for finrl (setup.py): started\n",
      "  Building wheel for finrl (setup.py): finished with status 'done'\n",
      "  Created wheel for finrl: filename=finrl-0.3.0-py3-none-any.whl size=38613 sha256=c24392ec67de8187a11b56caa1c7a12eb470a6c49ac756b36b8eea2ec27458e2\n",
      "  Stored in directory: C:\\Users\\User\\AppData\\Local\\Temp\\pip-ephem-wheel-cache-me1p7zvk\\wheels\\e8\\19\\74\\11261997d6bdca44ba73e8eeedb94a3e3d340259516a0887eb\n",
      "  Building wheel for pyfolio (setup.py): started\n",
      "  Building wheel for pyfolio (setup.py): finished with status 'done'\n",
      "  Created wheel for pyfolio: filename=pyfolio-0.9.2+75.g4b901f6-py3-none-any.whl size=76260 sha256=653d9635bfbd552d2017ddf62a73f2514e4119e9096ce2967e34717186a1d50c\n",
      "  Stored in directory: C:\\Users\\User\\AppData\\Local\\Temp\\pip-ephem-wheel-cache-me1p7zvk\\wheels\\7b\\59\\8b\\3c276a18b58c04a1fd0e1351e979fb5396f93fbde5b5438df1\n",
      "Successfully built finrl pyfolio\n",
      "Installing collected packages: pyfolio, finrl\n",
      "  Attempting uninstall: pyfolio\n",
      "    Found existing installation: pyfolio 0.9.2\n",
      "    Uninstalling pyfolio-0.9.2:\n",
      "      Successfully uninstalled pyfolio-0.9.2\n",
      "Successfully installed finrl-0.3.0 pyfolio-0.9.2+75.g4b901f6\n"
     ]
    }
   ],
   "source": [
    "!pip install git+https://github.com/AI4Finance-LLC/FinRL-Library.git"
   ]
  },
  {
   "cell_type": "code",
   "execution_count": null,
   "metadata": {},
   "outputs": [],
   "source": [
    "pip install stable_baselines"
   ]
  },
  {
   "cell_type": "code",
   "execution_count": 9,
   "metadata": {},
   "outputs": [],
   "source": [
    "# import packages\n",
    "import pandas as pd\n",
    "import numpy as np\n",
    "import matplotlib\n",
    "import matplotlib.pyplot as plt\n",
    "matplotlib.use('Agg')\n",
    "import datetime\n",
    "\n",
    "from finrl.config import config\n",
    "from finrl.marketdata.yahoodownloader import YahooDownloader\n",
    "from finrl.preprocessing.preprocessors import FeatureEngineer\n",
    "from finrl.preprocessing.data import data_split\n",
    "from finrl.env.environment import EnvSetup\n",
    "from finrl.env.EnvMultipleStock_train import StockEnvTrain\n",
    "from finrl.env.EnvMultipleStock_trade import StockEnvTrade\n",
    "from finrl.model.models import DRLAgent\n",
    "from finrl.trade.backtest import backtest_stats, backtest_plot, get_daily_return, get_baseline\n",
    "\n",
    "import os\n",
    "if not os.path.exists(\"./\" + config.DATA_SAVE_DIR):\n",
    "    os.makedirs(\"./\" + config.DATA_SAVE_DIR)\n",
    "if not os.path.exists(\"./\" + config.TRAINED_MODEL_DIR):\n",
    "    os.makedirs(\"./\" + config.TRAINED_MODEL_DIR)\n",
    "if not os.path.exists(\"./\" + config.TENSORBOARD_LOG_DIR):\n",
    "    os.makedirs(\"./\" + config.TENSORBOARD_LOG_DIR)\n",
    "if not os.path.exists(\"./\" + config.RESULTS_DIR):\n",
    "    os.makedirs(\"./\" + config.RESULTS_DIR)"
   ]
  },
  {
   "cell_type": "code",
   "execution_count": 10,
   "metadata": {},
   "outputs": [
    {
     "name": "stdout",
     "output_type": "stream",
     "text": [
      "[*********************100%***********************]  1 of 1 completed\n",
      "[*********************100%***********************]  1 of 1 completed\n",
      "[*********************100%***********************]  1 of 1 completed\n",
      "[*********************100%***********************]  1 of 1 completed\n",
      "[*********************100%***********************]  1 of 1 completed\n",
      "[*********************100%***********************]  1 of 1 completed\n",
      "[*********************100%***********************]  1 of 1 completed\n",
      "[*********************100%***********************]  1 of 1 completed\n",
      "[*********************100%***********************]  1 of 1 completed\n",
      "[*********************100%***********************]  1 of 1 completed\n",
      "[*********************100%***********************]  1 of 1 completed\n",
      "[*********************100%***********************]  1 of 1 completed\n",
      "[*********************100%***********************]  1 of 1 completed\n",
      "[*********************100%***********************]  1 of 1 completed\n",
      "[*********************100%***********************]  1 of 1 completed\n",
      "[*********************100%***********************]  1 of 1 completed\n",
      "[*********************100%***********************]  1 of 1 completed\n",
      "[*********************100%***********************]  1 of 1 completed\n",
      "[*********************100%***********************]  1 of 1 completed\n",
      "[*********************100%***********************]  1 of 1 completed\n",
      "[*********************100%***********************]  1 of 1 completed\n",
      "[*********************100%***********************]  1 of 1 completed\n",
      "[*********************100%***********************]  1 of 1 completed\n",
      "[*********************100%***********************]  1 of 1 completed\n",
      "[*********************100%***********************]  1 of 1 completed\n",
      "[*********************100%***********************]  1 of 1 completed\n",
      "[*********************100%***********************]  1 of 1 completed\n",
      "[*********************100%***********************]  1 of 1 completed\n",
      "[*********************100%***********************]  1 of 1 completed\n",
      "[*********************100%***********************]  1 of 1 completed\n",
      "Shape of DataFrame:  (61602, 8)\n"
     ]
    }
   ],
   "source": [
    "# Download and save the data in a pandas DataFrame:\n",
    "df = YahooDownloader(start_date = '2010-01-01',\n",
    "                     end_date = '2018-12-01',\n",
    "                     ticker_list = config.JII_TICKER).fetch_data()\n"
   ]
  },
  {
   "cell_type": "code",
   "execution_count": 13,
   "metadata": {},
   "outputs": [
    {
     "ename": "TypeError",
     "evalue": "preprocess_data() missing 1 required positional argument: 'df'",
     "output_type": "error",
     "traceback": [
      "\u001b[1;31m---------------------------------------------------------------------------\u001b[0m",
      "\u001b[1;31mTypeError\u001b[0m                                 Traceback (most recent call last)",
      "\u001b[1;32m<ipython-input-13-fd78d802ad68>\u001b[0m in \u001b[0;36m<module>\u001b[1;34m\u001b[0m\n\u001b[0;32m      1\u001b[0m \u001b[1;31m# Perform Feature Engineering:\u001b[0m\u001b[1;33m\u001b[0m\u001b[1;33m\u001b[0m\u001b[1;33m\u001b[0m\u001b[0m\n\u001b[1;32m----> 2\u001b[1;33m \u001b[0mdf\u001b[0m \u001b[1;33m=\u001b[0m \u001b[0mFeatureEngineer\u001b[0m\u001b[1;33m(\u001b[0m\u001b[0mdf\u001b[0m\u001b[1;33m.\u001b[0m\u001b[0mcopy\u001b[0m\u001b[1;33m(\u001b[0m\u001b[1;33m)\u001b[0m\u001b[1;33m)\u001b[0m\u001b[1;33m.\u001b[0m\u001b[0mpreprocess_data\u001b[0m\u001b[1;33m(\u001b[0m\u001b[1;33m)\u001b[0m\u001b[1;33m\u001b[0m\u001b[1;33m\u001b[0m\u001b[0m\n\u001b[0m\u001b[0;32m      3\u001b[0m \u001b[1;33m\u001b[0m\u001b[0m\n\u001b[0;32m      4\u001b[0m \u001b[1;33m\u001b[0m\u001b[0m\n\u001b[0;32m      5\u001b[0m \u001b[1;31m# add covariance matrix as states\u001b[0m\u001b[1;33m\u001b[0m\u001b[1;33m\u001b[0m\u001b[1;33m\u001b[0m\u001b[0m\n",
      "\u001b[1;31mTypeError\u001b[0m: preprocess_data() missing 1 required positional argument: 'df'"
     ]
    }
   ],
   "source": [
    "# Perform Feature Engineering:\n",
    "df = FeatureEngineer(df.copy()).preprocess_data()\n",
    "\n",
    "\n",
    "# add covariance matrix as states\n",
    "df=df.sort_values(['date','tic'],ignore_index=True)\n",
    "df.index = df.date.factorize()[0]\n",
    "\n",
    "cov_list = []\n",
    "# look back is one year\n",
    "lookback=252\n",
    "for i in range(lookback,len(df.index.unique())):\n",
    "  data_lookback = df.loc[i-lookback:i,:]\n",
    "  price_lookback=data_lookback.pivot_table(index = 'date',columns = 'tic', values = 'close')\n",
    "  return_lookback = price_lookback.pct_change().dropna()\n",
    "  covs = return_lookback.cov().values \n",
    "  cov_list.append(covs)\n",
    "  \n",
    "df_cov = pd.DataFrame({'date':df.date.unique()[lookback:],'cov_list':cov_list})\n",
    "df = df.merge(df_cov, on='date')\n",
    "df = df.sort_values(['date','tic']).reset_index(drop=True)\n",
    "df.head() "
   ]
  },
  {
   "cell_type": "code",
   "execution_count": null,
   "metadata": {},
   "outputs": [],
   "source": [
    "env_setup = EnvSetup(stock_dim = stock_dimension,\n",
    "                        state_space = state_space,\n",
    "                        initial_amount = 1000000,\n",
    "                        tech_indicator_list = config.TECHNICAL_INDICATORS_LIST)\n",
    "                        \n",
    "env_train = env_setup.create_env_training(data = train,\n",
    "                                          env_class = StockPortfolioEnv)                        \n"
   ]
  }
 ],
 "metadata": {
  "kernelspec": {
   "display_name": "Python 3",
   "language": "python",
   "name": "python3"
  },
  "language_info": {
   "codemirror_mode": {
    "name": "ipython",
    "version": 3
   },
   "file_extension": ".py",
   "mimetype": "text/x-python",
   "name": "python",
   "nbconvert_exporter": "python",
   "pygments_lexer": "ipython3",
   "version": "3.8.5"
  }
 },
 "nbformat": 4,
 "nbformat_minor": 4
}
